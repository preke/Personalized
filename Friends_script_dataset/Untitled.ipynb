{
 "cells": [
  {
   "cell_type": "markdown",
   "metadata": {},
   "source": [
    "## This notebook is for cleaning the script data"
   ]
  },
  {
   "cell_type": "code",
   "execution_count": 12,
   "metadata": {},
   "outputs": [
    {
     "name": "stdout",
     "output_type": "stream",
     "text": [
      "Joey\t C'mon, you're going out with the guy! There's gotta be something wrong with him!\"\n",
      "\n",
      "Chandler\t All right Joey, be nice.   So does he have a hump? A hump and a hairpiece?'\n",
      "\n",
      "Phoebe\t Wait, does he eat chalk?'\n",
      "\n",
      "Phoebe\t Just, 'cause, I don't want her to go through what I went through with Carl  oh!\"\n",
      "\n",
      "Monica\t Okay, everybody relax. This is not even a date. It's just two people going out to dinner and  not having sex.\"\n",
      "\n"
     ]
    }
   ],
   "source": [
    "import re\n",
    "symbles =  [r'\\n', r'\\xc2', r'\\xa0', '-']\n",
    "cnt = 5\n",
    "with open('script/101  Monica Gets A Roommate.csv', 'r') as f:\n",
    "    line = f.readline()\n",
    "    while(line):\n",
    "        line = f.readline()\n",
    "        if cnt > 0:\n",
    "            for s in symbles:\n",
    "                line = line.replace(s, ' ')\n",
    "            print(line)\n",
    "        cnt -=1"
   ]
  },
  {
   "cell_type": "markdown",
   "metadata": {},
   "source": [
    "## 探索一下多轮对话的情感分析"
   ]
  },
  {
   "cell_type": "code",
   "execution_count": null,
   "metadata": {},
   "outputs": [],
   "source": []
  }
 ],
 "metadata": {
  "kernelspec": {
   "display_name": "Python 3",
   "language": "python",
   "name": "python3"
  },
  "language_info": {
   "codemirror_mode": {
    "name": "ipython",
    "version": 3
   },
   "file_extension": ".py",
   "mimetype": "text/x-python",
   "name": "python",
   "nbconvert_exporter": "python",
   "pygments_lexer": "ipython3",
   "version": "3.7.4"
  },
  "toc": {
   "base_numbering": 1,
   "nav_menu": {},
   "number_sections": true,
   "sideBar": true,
   "skip_h1_title": false,
   "title_cell": "Table of Contents",
   "title_sidebar": "Contents",
   "toc_cell": false,
   "toc_position": {},
   "toc_section_display": true,
   "toc_window_display": false
  }
 },
 "nbformat": 4,
 "nbformat_minor": 2
}

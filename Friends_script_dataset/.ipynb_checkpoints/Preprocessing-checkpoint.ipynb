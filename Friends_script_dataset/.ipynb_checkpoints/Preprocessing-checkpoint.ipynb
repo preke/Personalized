{
 "cells": [
  {
   "cell_type": "markdown",
   "metadata": {},
   "source": [
    "## This notebook is for cleaning the script data\n",
    "\n",
    "- Clean the invalid chars\n",
    "- make the multi-turn dialog into pairs (single turns)"
   ]
  },
  {
   "cell_type": "code",
   "execution_count": 14,
   "metadata": {},
   "outputs": [
    {
     "name": "stdout",
     "output_type": "stream",
     "text": [
      "Joey\t C'mon, you're going out with the guy! There's gotta be something wrong with him!\" \n",
      "Chandler\t All right Joey, be nice.   So does he have a hump? A hump and a hairpiece?' \n",
      "Phoebe\t Wait, does he eat chalk?' \n",
      "Phoebe\t Just, 'cause, I don't want her to go through what I went through with Carl  oh!\" \n",
      "Monica\t Okay, everybody relax. This is not even a date. It's just two people going out to dinner and  not having sex.\" \n",
      "['Joey\\t C\\'mon, you\\'re going out with the guy! There\\'s gotta be something wrong with him!\" ', \"Chandler\\t All right Joey, be nice.   So does he have a hump? A hump and a hairpiece?' \", \"Phoebe\\t Wait, does he eat chalk?' \", 'Phoebe\\t Just, \\'cause, I don\\'t want her to go through what I went through with Carl  oh!\" ', 'Monica\\t Okay, everybody relax. This is not even a date. It\\'s just two people going out to dinner and  not having sex.\" ']\n"
     ]
    }
   ],
   "source": [
    "import re\n",
    "symbles =  [r'\\n', '\\n', r'\\xc2', '\\xc2', r'\\xa0', '\\xa0', '-']\n",
    "cnt = 5\n",
    "line_list = []\n",
    "with open('script/101  Monica Gets A Roommate.csv', 'r') as f:\n",
    "    line = f.readline()\n",
    "    while(cnt > 0):\n",
    "        line = f.readline()\n",
    "        for s in symbles:\n",
    "            line = line.replace(s, ' ')\n",
    "        print(line)\n",
    "        line_list.append(line)\n",
    "        cnt -=1\n",
    "\n",
    "print(line_list)"
   ]
  },
  {
   "cell_type": "markdown",
   "metadata": {},
   "source": [
    "## Merge sentences of one speaker"
   ]
  },
  {
   "cell_type": "code",
   "execution_count": 20,
   "metadata": {},
   "outputs": [
    {
     "data": {
      "text/plain": [
       "[['Joey',\n",
       "  ' C\\'mon, you\\'re going out with the guy! There\\'s gotta be something wrong with him!\" '],\n",
       " ['Chandler',\n",
       "  \" All right Joey, be nice.   So does he have a hump? A hump and a hairpiece?' \"],\n",
       " ['Phoebe',\n",
       "  \" Wait, does he eat chalk?' \",\n",
       "  ' Just, \\'cause, I don\\'t want her to go through what I went through with Carl  oh!\" '],\n",
       " ['Monica',\n",
       "  ' Okay, everybody relax. This is not even a date. It\\'s just two people going out to dinner and  not having sex.\" ']]"
      ]
     },
     "execution_count": 20,
     "metadata": {},
     "output_type": "execute_result"
    }
   ],
   "source": [
    "merged_line_list = []\n",
    "i = 0\n",
    "while( i < len(line_list)):\n",
    "    temp_line = []\n",
    "    temp_line.append(line_list[i].split('\\t')[0])\n",
    "    temp_line.append(line_list[i].split('\\t')[1])\n",
    "    next = i + 1\n",
    "    try:\n",
    "        while(line_list[next].split('\\t')[0] == temp_line[0]):\n",
    "            temp_line.append(line_list[next].split('\\t')[1])\n",
    "            next += 1\n",
    "    except:\n",
    "        pass\n",
    "    merged_line_list.append(temp_line)\n",
    "    i = next\n",
    "\n",
    "merged_line_list"
   ]
  },
  {
   "cell_type": "markdown",
   "metadata": {},
   "source": [
    "## Change to single turns"
   ]
  },
  {
   "cell_type": "code",
   "execution_count": 7,
   "metadata": {},
   "outputs": [
    {
     "name": "stdout",
     "output_type": "stream",
     "text": [
      "Joey\t C'mon, you're going out with the guy! There's gotta be something wrong with him!\"\n",
      "\n",
      "Chandler\t All right Joey, be nice.   So does he have a hump? A hump and a hairpiece?'\n",
      "\n",
      "Phoebe\t Wait, does he eat chalk?'\n",
      "\n",
      "Phoebe\t Just, 'cause, I don't want her to go through what I went through with Carl  oh!\"\n",
      "\n",
      "Monica\t Okay, everybody relax. This is not even a date. It's just two people going out to dinner and  not having sex.\"\n",
      "\n"
     ]
    }
   ],
   "source": [
    "turn = 0\n",
    "turn_list = []\n",
    "with open('script/101  Monica Gets A Roommate.csv', 'r') as f:\n",
    "    line = f.readline()\n",
    "    while(cnt > 0):\n",
    "        line = f.readline()\n",
    "        if cnt > 0:\n",
    "            for s in symbles:\n",
    "                line = line.replace(s, ' ')\n",
    "            print(line)\n",
    "        if turn == 0:\n",
    "            temp_turn = []\n",
    "            temp_turn.append(line.split('\\t')[0])\n",
    "            temp_turn.append(line.split('\\t')[1])\n",
    "            turn = 1\n",
    "        elif turn == 1:\n",
    "            if line.split('\\t')[0] == temp_turn[0]:\n",
    "                temp_turn.append(line.split('\\t')[1])\n",
    "            else:\n",
    "                temp_turn.append(line.split('\\t')[0])\n",
    "                temp_turn.append(line.split('\\t')[1])\n",
    "                turn_list.append(temp_turn)\n",
    "                turn = 0\n",
    "        cnt -=1"
   ]
  },
  {
   "cell_type": "markdown",
   "metadata": {},
   "source": [
    "## 探索一下多轮对话的情感分析\n",
    "## 电影对话数据集 or  FRIEND数据集怎么用"
   ]
  },
  {
   "cell_type": "code",
   "execution_count": 6,
   "metadata": {},
   "outputs": [
    {
     "data": {
      "text/plain": [
       "[['Joey',\n",
       "  ' C\\'mon, you\\'re going out with the guy! There\\'s gotta be something wrong with him!\"\\n',\n",
       "  'Chandler',\n",
       "  \" All right Joey, be nice.   So does he have a hump? A hump and a hairpiece?'\\n\"],\n",
       " ['Phoebe',\n",
       "  \" Wait, does he eat chalk?'\\n\",\n",
       "  'Phoebe',\n",
       "  ' Just, \\'cause, I don\\'t want her to go through what I went through with Carl  oh!\"\\n'],\n",
       " ['Monica',\n",
       "  ' Okay, everybody relax. This is not even a date. It\\'s just two people going out to dinner and  not having sex.\"\\n',\n",
       "  'Chandler',\n",
       "  \" Sounds like a date to me.'\\n\"]]"
      ]
     },
     "execution_count": 6,
     "metadata": {},
     "output_type": "execute_result"
    }
   ],
   "source": [
    "turn_list"
   ]
  }
 ],
 "metadata": {
  "kernelspec": {
   "display_name": "Python 3",
   "language": "python",
   "name": "python3"
  },
  "language_info": {
   "codemirror_mode": {
    "name": "ipython",
    "version": 3
   },
   "file_extension": ".py",
   "mimetype": "text/x-python",
   "name": "python",
   "nbconvert_exporter": "python",
   "pygments_lexer": "ipython3",
   "version": "3.7.4"
  },
  "toc": {
   "base_numbering": 1,
   "nav_menu": {},
   "number_sections": true,
   "sideBar": true,
   "skip_h1_title": false,
   "title_cell": "Table of Contents",
   "title_sidebar": "Contents",
   "toc_cell": false,
   "toc_position": {},
   "toc_section_display": true,
   "toc_window_display": false
  }
 },
 "nbformat": 4,
 "nbformat_minor": 2
}

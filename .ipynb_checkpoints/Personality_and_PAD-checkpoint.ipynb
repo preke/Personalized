{
 "cells": [
  {
   "cell_type": "markdown",
   "metadata": {},
   "source": [
    "## 简单计算一下每个人物的 PAD 空间内预设的属性值\n",
    "人格分析来源于：https://www.theodysseyonline.com/friends-character-spirit-animal "
   ]
  },
  {
   "cell_type": "code",
   "execution_count": 1,
   "metadata": {},
   "outputs": [
    {
     "name": "stdout",
     "output_type": "stream",
     "text": [
      "Phoebe [0.0, 0.15, 0.25]\n",
      "Monica [0.0, 0.0, 0.17]\n",
      "Joey [0.21, 0.0, 0.6]\n",
      "Rachel [0.21, 0.0, 0.6]\n",
      "Chandler [0.59, 0.3, -0.32]\n",
      "Ross [0.19, -0.57, 0.0]\n"
     ]
    }
   ],
   "source": [
    "def Personalied_PAD(personality):\n",
    "    [O,C,E,A,N] = personality\n",
    "    pleasant    = 0.21*E + 0.59*A + 0.19*N\n",
    "    arousal     = 0.15*O + 0.30*A - 0.57*N\n",
    "    dominance   = 0.25*O + 0.17*C + 0.60*E - 0.32*A\n",
    "    return [pleasant, arousal, dominance]\n",
    "\n",
    "Personality_dict = {\n",
    "    'Phoebe' : [1,0,0,0,0],\n",
    "    'Monica' : [0,1,0,0,0],\n",
    "    'Joey' : [0,0,1,0,0],\n",
    "    'Rachel': [0,0,1,0,0],\n",
    "    'Chandler':[0,0,0,1,0],\n",
    "    'Ross': [0,0,0,0,1]\n",
    "}\n",
    "\n",
    "# Personality_dict = {\n",
    "#     'Phoebe' : [1,-1,-1,-1,-1],\n",
    "#     'Monica' : [-1,1,-1,-1,-1],\n",
    "#     'Joey' : [-1,-1,1,-1,-1],\n",
    "#     'Rachel': [-1,-1,1,-1,-1],\n",
    "#     'Chandler':[-1,-1,-1,1,-1],\n",
    "#     'Ross': [-1,-1,-1,-1,1]\n",
    "# }\n",
    "\n",
    "\n",
    "\n",
    "for k,v in Personality_dict.items():\n",
    "    print(k, Personalied_PAD(v))"
   ]
  },
  {
   "cell_type": "markdown",
   "metadata": {},
   "source": [
    "## 看一下在 VAD lexicon 中，上面这些属性值最近的 words 是哪些"
   ]
  },
  {
   "cell_type": "code",
   "execution_count": 2,
   "metadata": {},
   "outputs": [
    {
     "name": "stdout",
     "output_type": "stream",
     "text": [
      "(20007, 4)\n"
     ]
    },
    {
     "data": {
      "text/html": [
       "<div>\n",
       "<style scoped>\n",
       "    .dataframe tbody tr th:only-of-type {\n",
       "        vertical-align: middle;\n",
       "    }\n",
       "\n",
       "    .dataframe tbody tr th {\n",
       "        vertical-align: top;\n",
       "    }\n",
       "\n",
       "    .dataframe thead th {\n",
       "        text-align: right;\n",
       "    }\n",
       "</style>\n",
       "<table border=\"1\" class=\"dataframe\">\n",
       "  <thead>\n",
       "    <tr style=\"text-align: right;\">\n",
       "      <th></th>\n",
       "      <th>Word</th>\n",
       "      <th>Valence</th>\n",
       "      <th>Arousal</th>\n",
       "      <th>Dominance</th>\n",
       "    </tr>\n",
       "  </thead>\n",
       "  <tbody>\n",
       "    <tr>\n",
       "      <td>0</td>\n",
       "      <td>aaaaaaah</td>\n",
       "      <td>0.479</td>\n",
       "      <td>0.606</td>\n",
       "      <td>0.291</td>\n",
       "    </tr>\n",
       "    <tr>\n",
       "      <td>1</td>\n",
       "      <td>aaaah</td>\n",
       "      <td>0.520</td>\n",
       "      <td>0.636</td>\n",
       "      <td>0.282</td>\n",
       "    </tr>\n",
       "    <tr>\n",
       "      <td>2</td>\n",
       "      <td>aardvark</td>\n",
       "      <td>0.427</td>\n",
       "      <td>0.490</td>\n",
       "      <td>0.437</td>\n",
       "    </tr>\n",
       "    <tr>\n",
       "      <td>3</td>\n",
       "      <td>aback</td>\n",
       "      <td>0.385</td>\n",
       "      <td>0.407</td>\n",
       "      <td>0.288</td>\n",
       "    </tr>\n",
       "    <tr>\n",
       "      <td>4</td>\n",
       "      <td>abacus</td>\n",
       "      <td>0.510</td>\n",
       "      <td>0.276</td>\n",
       "      <td>0.485</td>\n",
       "    </tr>\n",
       "  </tbody>\n",
       "</table>\n",
       "</div>"
      ],
      "text/plain": [
       "       Word  Valence  Arousal  Dominance\n",
       "0  aaaaaaah    0.479    0.606      0.291\n",
       "1     aaaah    0.520    0.636      0.282\n",
       "2  aardvark    0.427    0.490      0.437\n",
       "3     aback    0.385    0.407      0.288\n",
       "4    abacus    0.510    0.276      0.485"
      ]
     },
     "execution_count": 2,
     "metadata": {},
     "output_type": "execute_result"
    }
   ],
   "source": [
    "import pandas as pd\n",
    "import numpy as np\n",
    "\n",
    "VAD_Lexicons = pd.read_csv('data/NRC-VAD-Lexicon-Aug2018Release/NRC-VAD-Lexicon.txt', sep='\\t')\n",
    "print(VAD_Lexicons.shape)\n",
    "VAD_Lexicons.head()"
   ]
  },
  {
   "cell_type": "code",
   "execution_count": 3,
   "metadata": {},
   "outputs": [],
   "source": [
    "VAD_dict = {}\n",
    "for r in VAD_Lexicons.iterrows():\n",
    "    VAD_dict[r[1]['Word']] = [r[1]['Valence'], r[1]['Arousal'], r[1]['Dominance']]"
   ]
  },
  {
   "cell_type": "code",
   "execution_count": 4,
   "metadata": {},
   "outputs": [
    {
     "data": {
      "text/plain": [
       "(6, 20007)"
      ]
     },
     "execution_count": 4,
     "metadata": {},
     "output_type": "execute_result"
    }
   ],
   "source": [
    "from sklearn.metrics.pairwise import cosine_similarity\n",
    "\n",
    "Friends_list = []\n",
    "for k,v in Personality_dict.items():\n",
    "    Friends_list.append(Personalied_PAD(v))\n",
    "Friends_list = np.array(Friends_list)\n",
    "Role_list = list(Personality_dict.keys())\n",
    "\n",
    "Word_list = []\n",
    "VAD_Score_list = []\n",
    "for k, v in VAD_dict.items():\n",
    "    Word_list.append(k)\n",
    "    VAD_Score_list.append(v)\n",
    "VAD_Score_list = np.array(VAD_Score_list)\n",
    "\n",
    "Cosine_Matrix = cosine_similarity(Friends_list, VAD_Score_list)\n",
    "Cosine_Matrix.shape"
   ]
  },
  {
   "cell_type": "code",
   "execution_count": 5,
   "metadata": {},
   "outputs": [
    {
     "name": "stdout",
     "output_type": "stream",
     "text": [
      "Phoebe  :  ['opposed', 'protocol', 'dictator', 'pantheon', 'stereotype', 'farewell', 'demolish', 'rigidity', 'irreversible', 'politics', 'stiff', 'vile', 'weapon', 'restrict', 'funeral', 'improbable', 'armed', 'predator', 'dictatorial', 'boss']\n",
      " \n",
      "Monica  :  ['stone', 'finalized', 'corporation', 'protocol', 'politics', 'no surprise', 'baton', 'redundancy', 'senator', 'rector', 'pantheon', 'diplomat', 'bourgeoisie', 'senate', 'staunch', 'comptroller', 'dictation', 'century', 'archdiocese', 'jurisprudence']\n",
      " \n",
      "Joey  :  ['stone', 'finalized', 'buddhism', 'diplomat', 'corporation', 'pew', 'senate', 'bishop', 'rocks', 'logic', 'redundancy', 'staunch', 'column', 'baton', 'wrench', 'homeowner', 'theologian', 'regular', 'trunk', 'checkpoint']\n",
      " \n",
      "Rachel  :  ['stone', 'finalized', 'buddhism', 'diplomat', 'corporation', 'pew', 'senate', 'bishop', 'rocks', 'logic', 'redundancy', 'staunch', 'column', 'baton', 'wrench', 'homeowner', 'theologian', 'regular', 'trunk', 'checkpoint']\n",
      " \n",
      "Chandler  :  ['lazy', 'small', 'mush', 'plum', 'burrito', 'weakened', 'feather', 'popcorn', 'wig', 'bunny', 'tiny', 'frosted', 'minim', 'risotto', 'lotion', 'weave', 'shoes', 'sheep', 'tart', 'pudding']\n",
      " \n",
      "Ross  :  ['napping', 'siesta', 'relaxant', 'tranquil', 'softness', 'relaxed', 'calm', 'cotton', 'mellow', 'tortoise', 'calmness', 'stressfree', 'calming', 'normality', 'sleep', 'sleeping', 'canvas', 'couch', 'quiet', 'peaceful']\n",
      " \n"
     ]
    }
   ],
   "source": [
    "Sorted_words = np.argsort(-Cosine_Matrix, axis=1)\n",
    "for i in range(len(Role_list)):\n",
    "    # print(Role_list[i], ' : ', \n",
    "    #       ['(' + Word_list[j] + ': ' + str(Cosine_Matrix[i][j]) + ')' for j in Sorted_words[i][:8]])\n",
    "    print(Role_list[i], ' : ', [Word_list[j] for j in Sorted_words[i][:20]])\n",
    "    print(' ')"
   ]
  },
  {
   "cell_type": "markdown",
   "metadata": {},
   "source": [
    "**没有domain knowledge, 直观看，好像不是很相关...**"
   ]
  },
  {
   "cell_type": "code",
   "execution_count": null,
   "metadata": {},
   "outputs": [],
   "source": []
  }
 ],
 "metadata": {
  "kernelspec": {
   "display_name": "Python 3",
   "language": "python",
   "name": "python3"
  },
  "language_info": {
   "codemirror_mode": {
    "name": "ipython",
    "version": 3
   },
   "file_extension": ".py",
   "mimetype": "text/x-python",
   "name": "python",
   "nbconvert_exporter": "python",
   "pygments_lexer": "ipython3",
   "version": "3.7.4"
  },
  "toc": {
   "base_numbering": 1,
   "nav_menu": {},
   "number_sections": true,
   "sideBar": true,
   "skip_h1_title": false,
   "title_cell": "Table of Contents",
   "title_sidebar": "Contents",
   "toc_cell": false,
   "toc_position": {},
   "toc_section_display": true,
   "toc_window_display": false
  }
 },
 "nbformat": 4,
 "nbformat_minor": 2
}
